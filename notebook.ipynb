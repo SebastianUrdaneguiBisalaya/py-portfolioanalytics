{
 "cells": [
  {
   "cell_type": "code",
   "execution_count": 1,
   "metadata": {},
   "outputs": [
    {
     "name": "stdout",
     "output_type": "stream",
     "text": [
      "Collecting pyportfolioanalytics==0.0.7\n",
      "  Using cached pyportfolioanalytics-0.0.7-py3-none-any.whl\n",
      "Requirement already satisfied: pandas in c:\\users\\fabrizio\\documents\\portfolioprojects\\pyportfolioanalytics\\venv\\lib\\site-packages (from pyportfolioanalytics==0.0.7) (2.0.1)\n",
      "Requirement already satisfied: numpy in c:\\users\\fabrizio\\documents\\portfolioprojects\\pyportfolioanalytics\\venv\\lib\\site-packages (from pyportfolioanalytics==0.0.7) (1.24.3)\n",
      "Requirement already satisfied: matplotlib in c:\\users\\fabrizio\\documents\\portfolioprojects\\pyportfolioanalytics\\venv\\lib\\site-packages (from pyportfolioanalytics==0.0.7) (3.7.1)\n",
      "Requirement already satisfied: seaborn in c:\\users\\fabrizio\\documents\\portfolioprojects\\pyportfolioanalytics\\venv\\lib\\site-packages (from pyportfolioanalytics==0.0.7) (0.12.2)\n",
      "Requirement already satisfied: yfinance in c:\\users\\fabrizio\\documents\\portfolioprojects\\pyportfolioanalytics\\venv\\lib\\site-packages (from pyportfolioanalytics==0.0.7) (0.2.18)\n",
      "Requirement already satisfied: reportlab in c:\\users\\fabrizio\\documents\\portfolioprojects\\pyportfolioanalytics\\venv\\lib\\site-packages (from pyportfolioanalytics==0.0.7) (4.0.0)\n",
      "Requirement already satisfied: contourpy>=1.0.1 in c:\\users\\fabrizio\\documents\\portfolioprojects\\pyportfolioanalytics\\venv\\lib\\site-packages (from matplotlib->pyportfolioanalytics==0.0.7) (1.0.7)\n",
      "Requirement already satisfied: cycler>=0.10 in c:\\users\\fabrizio\\documents\\portfolioprojects\\pyportfolioanalytics\\venv\\lib\\site-packages (from matplotlib->pyportfolioanalytics==0.0.7) (0.11.0)\n",
      "Requirement already satisfied: fonttools>=4.22.0 in c:\\users\\fabrizio\\documents\\portfolioprojects\\pyportfolioanalytics\\venv\\lib\\site-packages (from matplotlib->pyportfolioanalytics==0.0.7) (4.39.3)\n",
      "Requirement already satisfied: kiwisolver>=1.0.1 in c:\\users\\fabrizio\\documents\\portfolioprojects\\pyportfolioanalytics\\venv\\lib\\site-packages (from matplotlib->pyportfolioanalytics==0.0.7) (1.4.4)\n",
      "Requirement already satisfied: packaging>=20.0 in c:\\users\\fabrizio\\documents\\portfolioprojects\\pyportfolioanalytics\\venv\\lib\\site-packages (from matplotlib->pyportfolioanalytics==0.0.7) (23.1)\n",
      "Requirement already satisfied: pillow>=6.2.0 in c:\\users\\fabrizio\\documents\\portfolioprojects\\pyportfolioanalytics\\venv\\lib\\site-packages (from matplotlib->pyportfolioanalytics==0.0.7) (9.5.0)\n",
      "Requirement already satisfied: pyparsing>=2.3.1 in c:\\users\\fabrizio\\documents\\portfolioprojects\\pyportfolioanalytics\\venv\\lib\\site-packages (from matplotlib->pyportfolioanalytics==0.0.7) (3.0.9)\n",
      "Requirement already satisfied: python-dateutil>=2.7 in c:\\users\\fabrizio\\documents\\portfolioprojects\\pyportfolioanalytics\\venv\\lib\\site-packages (from matplotlib->pyportfolioanalytics==0.0.7) (2.8.2)\n",
      "Requirement already satisfied: pytz>=2020.1 in c:\\users\\fabrizio\\documents\\portfolioprojects\\pyportfolioanalytics\\venv\\lib\\site-packages (from pandas->pyportfolioanalytics==0.0.7) (2023.3)\n",
      "Requirement already satisfied: tzdata>=2022.1 in c:\\users\\fabrizio\\documents\\portfolioprojects\\pyportfolioanalytics\\venv\\lib\\site-packages (from pandas->pyportfolioanalytics==0.0.7) (2023.3)\n",
      "Requirement already satisfied: rlPyCairo<1,>=0.2.0 in c:\\users\\fabrizio\\documents\\portfolioprojects\\pyportfolioanalytics\\venv\\lib\\site-packages (from reportlab->pyportfolioanalytics==0.0.7) (0.2.0)\n",
      "Requirement already satisfied: freetype-py<2.4,>=2.3.0 in c:\\users\\fabrizio\\documents\\portfolioprojects\\pyportfolioanalytics\\venv\\lib\\site-packages (from reportlab->pyportfolioanalytics==0.0.7) (2.3.0)\n",
      "Requirement already satisfied: requests>=2.26 in c:\\users\\fabrizio\\documents\\portfolioprojects\\pyportfolioanalytics\\venv\\lib\\site-packages (from yfinance->pyportfolioanalytics==0.0.7) (2.30.0)\n",
      "Requirement already satisfied: multitasking>=0.0.7 in c:\\users\\fabrizio\\documents\\portfolioprojects\\pyportfolioanalytics\\venv\\lib\\site-packages (from yfinance->pyportfolioanalytics==0.0.7) (0.0.11)\n",
      "Requirement already satisfied: lxml>=4.9.1 in c:\\users\\fabrizio\\documents\\portfolioprojects\\pyportfolioanalytics\\venv\\lib\\site-packages (from yfinance->pyportfolioanalytics==0.0.7) (4.9.2)\n",
      "Requirement already satisfied: appdirs>=1.4.4 in c:\\users\\fabrizio\\documents\\portfolioprojects\\pyportfolioanalytics\\venv\\lib\\site-packages (from yfinance->pyportfolioanalytics==0.0.7) (1.4.4)\n",
      "Requirement already satisfied: frozendict>=2.3.4 in c:\\users\\fabrizio\\documents\\portfolioprojects\\pyportfolioanalytics\\venv\\lib\\site-packages (from yfinance->pyportfolioanalytics==0.0.7) (2.3.8)\n",
      "Requirement already satisfied: cryptography>=3.3.2 in c:\\users\\fabrizio\\documents\\portfolioprojects\\pyportfolioanalytics\\venv\\lib\\site-packages (from yfinance->pyportfolioanalytics==0.0.7) (40.0.2)\n",
      "Requirement already satisfied: beautifulsoup4>=4.11.1 in c:\\users\\fabrizio\\documents\\portfolioprojects\\pyportfolioanalytics\\venv\\lib\\site-packages (from yfinance->pyportfolioanalytics==0.0.7) (4.12.2)\n",
      "Requirement already satisfied: html5lib>=1.1 in c:\\users\\fabrizio\\documents\\portfolioprojects\\pyportfolioanalytics\\venv\\lib\\site-packages (from yfinance->pyportfolioanalytics==0.0.7) (1.1)\n",
      "Requirement already satisfied: soupsieve>1.2 in c:\\users\\fabrizio\\documents\\portfolioprojects\\pyportfolioanalytics\\venv\\lib\\site-packages (from beautifulsoup4>=4.11.1->yfinance->pyportfolioanalytics==0.0.7) (2.4.1)\n",
      "Requirement already satisfied: cffi>=1.12 in c:\\users\\fabrizio\\documents\\portfolioprojects\\pyportfolioanalytics\\venv\\lib\\site-packages (from cryptography>=3.3.2->yfinance->pyportfolioanalytics==0.0.7) (1.15.1)\n",
      "Requirement already satisfied: six>=1.9 in c:\\users\\fabrizio\\documents\\portfolioprojects\\pyportfolioanalytics\\venv\\lib\\site-packages (from html5lib>=1.1->yfinance->pyportfolioanalytics==0.0.7) (1.16.0)\n",
      "Requirement already satisfied: webencodings in c:\\users\\fabrizio\\documents\\portfolioprojects\\pyportfolioanalytics\\venv\\lib\\site-packages (from html5lib>=1.1->yfinance->pyportfolioanalytics==0.0.7) (0.5.1)\n",
      "Requirement already satisfied: charset-normalizer<4,>=2 in c:\\users\\fabrizio\\documents\\portfolioprojects\\pyportfolioanalytics\\venv\\lib\\site-packages (from requests>=2.26->yfinance->pyportfolioanalytics==0.0.7) (3.1.0)\n",
      "Requirement already satisfied: idna<4,>=2.5 in c:\\users\\fabrizio\\documents\\portfolioprojects\\pyportfolioanalytics\\venv\\lib\\site-packages (from requests>=2.26->yfinance->pyportfolioanalytics==0.0.7) (3.4)\n",
      "Requirement already satisfied: urllib3<3,>=1.21.1 in c:\\users\\fabrizio\\documents\\portfolioprojects\\pyportfolioanalytics\\venv\\lib\\site-packages (from requests>=2.26->yfinance->pyportfolioanalytics==0.0.7) (2.0.2)\n",
      "Requirement already satisfied: certifi>=2017.4.17 in c:\\users\\fabrizio\\documents\\portfolioprojects\\pyportfolioanalytics\\venv\\lib\\site-packages (from requests>=2.26->yfinance->pyportfolioanalytics==0.0.7) (2022.12.7)\n",
      "Requirement already satisfied: pycairo>=1.20.0 in c:\\users\\fabrizio\\documents\\portfolioprojects\\pyportfolioanalytics\\venv\\lib\\site-packages (from rlPyCairo<1,>=0.2.0->reportlab->pyportfolioanalytics==0.0.7) (1.23.0)\n",
      "Requirement already satisfied: pycparser in c:\\users\\fabrizio\\documents\\portfolioprojects\\pyportfolioanalytics\\venv\\lib\\site-packages (from cffi>=1.12->cryptography>=3.3.2->yfinance->pyportfolioanalytics==0.0.7) (2.21)\n",
      "Installing collected packages: pyportfolioanalytics\n",
      "Successfully installed pyportfolioanalytics-0.0.7\n",
      "Note: you may need to restart the kernel to use updated packages.\n"
     ]
    },
    {
     "name": "stderr",
     "output_type": "stream",
     "text": [
      "\n",
      "[notice] A new release of pip available: 22.3.1 -> 23.1.2\n",
      "[notice] To update, run: python.exe -m pip install --upgrade pip\n"
     ]
    }
   ],
   "source": [
    "pip install pyportfolioanalytics==0.0.7"
   ]
  },
  {
   "cell_type": "code",
   "execution_count": 4,
   "metadata": {},
   "outputs": [],
   "source": [
    "from pyportfolioanalytics.utils import get_stock_price_close\n",
    "from pyportfolioanalytics.utils import ReportFinancial"
   ]
  },
  {
   "cell_type": "code",
   "execution_count": 5,
   "metadata": {},
   "outputs": [],
   "source": [
    "reporte = ReportFinancial([\"AAPL\", \"AMZN\", \"META\", \"TSLA\", \"AMD\", \"NFLX\"], '2022-01-01', '2023-01-01', [0.2,0.2,0.3, 0.1, 0.1, 0.1], 1000000)\n",
    "reporte.report()"
   ]
  }
 ],
 "metadata": {
  "kernelspec": {
   "display_name": "venv",
   "language": "python",
   "name": "python3"
  },
  "language_info": {
   "codemirror_mode": {
    "name": "ipython",
    "version": 3
   },
   "file_extension": ".py",
   "mimetype": "text/x-python",
   "name": "python",
   "nbconvert_exporter": "python",
   "pygments_lexer": "ipython3",
   "version": "3.11.3"
  },
  "orig_nbformat": 4
 },
 "nbformat": 4,
 "nbformat_minor": 2
}
